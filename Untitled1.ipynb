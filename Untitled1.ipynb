{
 "cells": [
  {
   "cell_type": "code",
   "execution_count": 1,
   "id": "5d946118-d21f-4ef1-bffa-0cc505acd3f7",
   "metadata": {},
   "outputs": [
    {
     "name": "stdout",
     "output_type": "stream",
     "text": [
      "میں مصنوعی ذہانت سے محبت کرتا ہوں.\n"
     ]
    }
   ],
   "source": [
    "from transformers import AutoTokenizer, AutoModelForSeq2SeqLM\n",
    "\n",
    "# Load pre-trained translation model\n",
    "model_name = \"Helsinki-NLP/opus-mt-en-ur\"\n",
    "tokenizer = AutoTokenizer.from_pretrained(model_name)\n",
    "model = AutoModelForSeq2SeqLM.from_pretrained(model_name)\n",
    "\n",
    "# English text\n",
    "text = \"I love learning artificial intelligence.\"\n",
    "\n",
    "# Tokenize\n",
    "inputs = tokenizer(text, return_tensors=\"pt\")\n",
    "\n",
    "# Generate Urdu translation\n",
    "outputs = model.generate(**inputs)\n",
    "translation = tokenizer.decode(outputs[0], skip_special_tokens=True)\n",
    "\n",
    "print(translation)\n"
   ]
  },
  {
   "cell_type": "code",
   "execution_count": 2,
   "id": "dde34378-b0a1-4d95-bc0f-47f9afd062b9",
   "metadata": {},
   "outputs": [
    {
     "name": "stdin",
     "output_type": "stream",
     "text": [
      "Enter text: Are you mad?\n"
     ]
    },
    {
     "name": "stdout",
     "output_type": "stream",
     "text": [
      "تم پاگل ہو؟\n"
     ]
    }
   ],
   "source": [
    "text=input(\"Enter text:\")\n",
    "inputs = tokenizer(text, return_tensors=\"pt\")\n",
    "outputs = model.generate(**inputs)\n",
    "translation = tokenizer.decode(outputs[0], skip_special_tokens=True)\n",
    "\n",
    "print(translation)"
   ]
  },
  {
   "cell_type": "code",
   "execution_count": null,
   "id": "5b52c4c6-f824-49dc-8f7c-2f1b90699798",
   "metadata": {},
   "outputs": [],
   "source": []
  }
 ],
 "metadata": {
  "kernelspec": {
   "display_name": "Python 3 (ipykernel)",
   "language": "python",
   "name": "python3"
  },
  "language_info": {
   "codemirror_mode": {
    "name": "ipython",
    "version": 3
   },
   "file_extension": ".py",
   "mimetype": "text/x-python",
   "name": "python",
   "nbconvert_exporter": "python",
   "pygments_lexer": "ipython3",
   "version": "3.11.13"
  }
 },
 "nbformat": 4,
 "nbformat_minor": 5
}
